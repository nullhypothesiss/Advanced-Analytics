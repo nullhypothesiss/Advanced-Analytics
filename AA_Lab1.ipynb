{
  "nbformat": 4,
  "nbformat_minor": 0,
  "metadata": {
    "colab": {
      "provenance": [],
      "authorship_tag": "ABX9TyMWVOU+9eFCXzqVfncjCeAq",
      "include_colab_link": true
    },
    "kernelspec": {
      "name": "python3",
      "display_name": "Python 3"
    },
    "language_info": {
      "name": "python"
    }
  },
  "cells": [
    {
      "cell_type": "markdown",
      "metadata": {
        "id": "view-in-github",
        "colab_type": "text"
      },
      "source": [
        "<a href=\"https://colab.research.google.com/github/nullhypothesiss/Advanced-Analytics/blob/main/AA_Lab1.ipynb\" target=\"_parent\"><img src=\"https://colab.research.google.com/assets/colab-badge.svg\" alt=\"Open In Colab\"/></a>"
      ]
    },
    {
      "cell_type": "code",
      "execution_count": 1,
      "metadata": {
        "id": "WvjS3eDKj10X"
      },
      "outputs": [],
      "source": [
        "import requests\n",
        "import json"
      ]
    },
    {
      "cell_type": "code",
      "source": [
        "url = 'https://api.openweathermap.org/data/2.5/weather?q=Bangalore&appid=655403eaf173d7e45fa4568a526d7254'"
      ],
      "metadata": {
        "id": "96oiDR9SkS7M"
      },
      "execution_count": 2,
      "outputs": []
    },
    {
      "cell_type": "code",
      "source": [
        "urll = 'http://api.openweathermap.org/data/2.5/weather?q=Banglore&appid=655403eaf173d7e45fa4568a526d7254'"
      ],
      "metadata": {
        "id": "uPunwiyGqFLP"
      },
      "execution_count": null,
      "outputs": []
    },
    {
      "cell_type": "code",
      "source": [
        "response = requests.get(url)"
      ],
      "metadata": {
        "id": "hxh6JAhmkafs"
      },
      "execution_count": 3,
      "outputs": []
    },
    {
      "cell_type": "code",
      "source": [
        "response.status_code"
      ],
      "metadata": {
        "colab": {
          "base_uri": "https://localhost:8080/"
        },
        "id": "_1m2Hob-keUM",
        "outputId": "1a99d505-f157-4d58-848c-0bd5d8ca8162"
      },
      "execution_count": 4,
      "outputs": [
        {
          "output_type": "execute_result",
          "data": {
            "text/plain": [
              "200"
            ]
          },
          "metadata": {},
          "execution_count": 4
        }
      ]
    },
    {
      "cell_type": "code",
      "source": [
        "data = response.json()"
      ],
      "metadata": {
        "id": "o__iZq9FkghY"
      },
      "execution_count": 5,
      "outputs": []
    },
    {
      "cell_type": "code",
      "source": [
        "data"
      ],
      "metadata": {
        "colab": {
          "base_uri": "https://localhost:8080/"
        },
        "id": "ajEGiP85kjV4",
        "outputId": "0bd5af0d-e259-4a8a-ceed-34c12cd8b53f"
      },
      "execution_count": 6,
      "outputs": [
        {
          "output_type": "execute_result",
          "data": {
            "text/plain": [
              "{'coord': {'lon': 77.6033, 'lat': 12.9762},\n",
              " 'weather': [{'id': 701,\n",
              "   'main': 'Mist',\n",
              "   'description': 'mist',\n",
              "   'icon': '50d'}],\n",
              " 'base': 'stations',\n",
              " 'main': {'temp': 294.95,\n",
              "  'feels_like': 295.48,\n",
              "  'temp_min': 293.05,\n",
              "  'temp_max': 294.95,\n",
              "  'pressure': 1017,\n",
              "  'humidity': 88},\n",
              " 'visibility': 5000,\n",
              " 'wind': {'speed': 4.12, 'deg': 90},\n",
              " 'clouds': {'all': 40},\n",
              " 'dt': 1701310949,\n",
              " 'sys': {'type': 1,\n",
              "  'id': 9205,\n",
              "  'country': 'IN',\n",
              "  'sunrise': 1701305726,\n",
              "  'sunset': 1701346861},\n",
              " 'timezone': 19800,\n",
              " 'id': 1277333,\n",
              " 'name': 'Bengaluru',\n",
              " 'cod': 200}"
            ]
          },
          "metadata": {},
          "execution_count": 6
        }
      ]
    },
    {
      "cell_type": "code",
      "source": [
        "data['base']"
      ],
      "metadata": {
        "colab": {
          "base_uri": "https://localhost:8080/",
          "height": 36
        },
        "id": "FdDnbc-KkkZW",
        "outputId": "0d002000-7a1d-413d-cc80-559fd20e42a7"
      },
      "execution_count": 7,
      "outputs": [
        {
          "output_type": "execute_result",
          "data": {
            "text/plain": [
              "'stations'"
            ],
            "application/vnd.google.colaboratory.intrinsic+json": {
              "type": "string"
            }
          },
          "metadata": {},
          "execution_count": 7
        }
      ]
    },
    {
      "cell_type": "code",
      "source": [
        "data['weather'][0]['main']"
      ],
      "metadata": {
        "colab": {
          "base_uri": "https://localhost:8080/",
          "height": 36
        },
        "id": "HJdJtPv6kqvU",
        "outputId": "4eb8bc20-65f4-46a4-e302-2dc99cf784e0"
      },
      "execution_count": 8,
      "outputs": [
        {
          "output_type": "execute_result",
          "data": {
            "text/plain": [
              "'Mist'"
            ],
            "application/vnd.google.colaboratory.intrinsic+json": {
              "type": "string"
            }
          },
          "metadata": {},
          "execution_count": 8
        }
      ]
    },
    {
      "cell_type": "code",
      "source": [
        "round(data['main']['temp'] - 273.15)"
      ],
      "metadata": {
        "colab": {
          "base_uri": "https://localhost:8080/"
        },
        "id": "TLVWI9Djs1_N",
        "outputId": "56804102-2984-4dec-e294-3f5831670d4a"
      },
      "execution_count": 9,
      "outputs": [
        {
          "output_type": "execute_result",
          "data": {
            "text/plain": [
              "22"
            ]
          },
          "metadata": {},
          "execution_count": 9
        }
      ]
    },
    {
      "cell_type": "code",
      "source": [
        "city_name = input('Enter the city name:')\n",
        "url2 = 'https://api.openweathermap.org/data/2.5/weather?q='+city_name+'&appid=655403eaf173d7e45fa4568a526d7254'\n",
        "response2 = requests.get(url2)\n",
        "data2 = response2.json()\n",
        "if response2.status_code == 200:\n",
        "  print('Weather:',data2['weather'][0]['main'])\n",
        "  print('City', data2['name'])\n",
        "  print('Temperature:', round(data2['main']['temp'] - 273.15))\n",
        "else:\n",
        "  print('Enter the correct city please')"
      ],
      "metadata": {
        "colab": {
          "base_uri": "https://localhost:8080/"
        },
        "id": "DXgtB0ycs8V_",
        "outputId": "76de8e81-278c-487a-c976-53d3e57212bb"
      },
      "execution_count": 10,
      "outputs": [
        {
          "output_type": "stream",
          "name": "stdout",
          "text": [
            "Enter the city name:Mumbai\n",
            "Weather: Haze\n",
            "City Mumbai\n",
            "Temperature: 25\n"
          ]
        }
      ]
    },
    {
      "cell_type": "code",
      "source": [
        "!pip install python-dotenv"
      ],
      "metadata": {
        "colab": {
          "base_uri": "https://localhost:8080/"
        },
        "id": "uf5043nuF1Ec",
        "outputId": "f6d9a935-eab2-4de5-e05c-edb98471ca90"
      },
      "execution_count": 16,
      "outputs": [
        {
          "output_type": "stream",
          "name": "stdout",
          "text": [
            "Collecting python-dotenv\n",
            "  Downloading python_dotenv-1.0.0-py3-none-any.whl (19 kB)\n",
            "Installing collected packages: python-dotenv\n",
            "Successfully installed python-dotenv-1.0.0\n"
          ]
        }
      ]
    },
    {
      "cell_type": "code",
      "source": [
        "import dotenv"
      ],
      "metadata": {
        "id": "Yc-HFPwgRaNH"
      },
      "execution_count": 37,
      "outputs": []
    },
    {
      "cell_type": "code",
      "source": [
        "from dotenv import load_dotenv"
      ],
      "metadata": {
        "id": "9nH7m7ujtCy6"
      },
      "execution_count": 38,
      "outputs": []
    },
    {
      "cell_type": "code",
      "source": [
        "found_dotenv = dotenv.find_dotenv('config.env')\n",
        "print(found_dotenv)"
      ],
      "metadata": {
        "colab": {
          "base_uri": "https://localhost:8080/"
        },
        "id": "QcuuH1cKRMlT",
        "outputId": "685a628d-4081-42e8-a423-9faa987d89ac"
      },
      "execution_count": 42,
      "outputs": [
        {
          "output_type": "stream",
          "name": "stdout",
          "text": [
            "\n"
          ]
        }
      ]
    },
    {
      "cell_type": "code",
      "source": [
        "dotenv_file = dotenv.find_dotenv(usecwd=True)\n",
        "dotenv.load_dotenv(dotenv_file)"
      ],
      "metadata": {
        "colab": {
          "base_uri": "https://localhost:8080/"
        },
        "id": "O3F0wZimR0Wx",
        "outputId": "bf3e7229-26c9-4a9d-8866-7ea8ee704518"
      },
      "execution_count": 43,
      "outputs": [
        {
          "output_type": "execute_result",
          "data": {
            "text/plain": [
              "False"
            ]
          },
          "metadata": {},
          "execution_count": 43
        }
      ]
    },
    {
      "cell_type": "code",
      "source": [
        "import os"
      ],
      "metadata": {
        "id": "oBAKpXAbuNGR"
      },
      "execution_count": 18,
      "outputs": []
    },
    {
      "cell_type": "code",
      "source": [
        "load_dotenv()\n",
        "API_KEY = os.getenv('API_KEY')"
      ],
      "metadata": {
        "id": "fdS-X1CgF-3f"
      },
      "execution_count": 44,
      "outputs": []
    },
    {
      "cell_type": "code",
      "source": [
        "city_name = input('Enter the city name: ')\n",
        "url2 = 'https://api.openweathermap.org/data/2.5/weather?q='+city_name+'&appid='+API_KEY\n",
        "#url3 = 'https://api.openweathermap.org/data/2.5/weather?q='+city_name+'&appid=655403eaf173d7e45fa4568a526d7254'\n",
        "response2 =  requests.get(url2)\n",
        "data2 = response2.json()\n",
        "if response2.status_code == 200:\n",
        "    print('Weather: ',data2['weather'][0]['main'])\n",
        "    print('City: ',data2['name'])\n",
        "    print('Temperature: ',round(data2['main']['temp'] - 273.15))\n",
        "else:\n",
        "    print(\"Enter the correct city please\")"
      ],
      "metadata": {
        "colab": {
          "base_uri": "https://localhost:8080/"
        },
        "id": "AeIoryomMTJU",
        "outputId": "5274b647-e3db-4b3a-c5ae-35005dcdde68"
      },
      "execution_count": 46,
      "outputs": [
        {
          "output_type": "stream",
          "name": "stdout",
          "text": [
            "Enter the city name: mumbai\n",
            "Weather:  Haze\n",
            "City:  Mumbai\n",
            "Temperature:  25\n"
          ]
        }
      ]
    },
    {
      "cell_type": "code",
      "source": [],
      "metadata": {
        "id": "zcuh5uFmMWIr"
      },
      "execution_count": null,
      "outputs": []
    }
  ]
}